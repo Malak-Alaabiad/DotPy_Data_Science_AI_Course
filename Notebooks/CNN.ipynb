{
  "cells": [
    {
      "cell_type": "markdown",
      "metadata": {
        "id": "nag6O5JM81m4"
      },
      "source": [
        "#Importing the libraries for deep learning CNN"
      ]
    },
    {
      "cell_type": "code",
      "execution_count": null,
      "metadata": {
        "id": "MMegqgYl82Q_"
      },
      "outputs": [],
      "source": [
        "from keras.models import Sequential\n",
        "from keras.layers import Dense, Flatten, Conv2D, MaxPool2D\n",
        "from keras.preprocessing.image import ImageDataGenerator"
      ]
    },
    {
      "cell_type": "markdown",
      "metadata": {
        "id": "NlI-5LxEDThG"
      },
      "source": [
        "#Preprocessing the dataset"
      ]
    },
    {
      "cell_type": "code",
      "execution_count": null,
      "metadata": {
        "colab": {
          "base_uri": "https://localhost:8080/"
        },
        "id": "xhVTM8buDZkP",
        "outputId": "75ffb040-7b24-444d-8596-dca8429823a1"
      },
      "outputs": [
        {
          "name": "stdout",
          "output_type": "stream",
          "text": [
            "Found 2637 images belonging to 2 classes.\n"
          ]
        }
      ],
      "source": [
        "train_data_generation = ImageDataGenerator(\n",
        "    rescale=1./255,\n",
        "    shear_range=0.2,\n",
        "    zoom_range=0.2,\n",
        "    horizontal_flip=True)\n",
        "training_set = train_data_generation.flow_from_directory('/content/drive/MyDrive/two_types_of_skin_cancer/train',\n",
        "    target_size=(64, 64),\n",
        "    batch_size=16,\n",
        "    class_mode='binary')\n"
      ]
    },
    {
      "cell_type": "code",
      "execution_count": null,
      "metadata": {
        "colab": {
          "base_uri": "https://localhost:8080/"
        },
        "id": "5WscA2LIE3EI",
        "outputId": "173f7115-e95c-4bf5-818f-36ef5b81f076"
      },
      "outputs": [
        {
          "name": "stdout",
          "output_type": "stream",
          "text": [
            "Found 660 images belonging to 2 classes.\n"
          ]
        }
      ],
      "source": [
        "test_data_generation = ImageDataGenerator(\n",
        "    rescale=1./255)\n",
        "testing_set = test_data_generation.flow_from_directory('/content/drive/MyDrive/two_types_of_skin_cancer/test',\n",
        "    target_size=(64, 64),\n",
        "    batch_size=16,\n",
        "    class_mode='binary')"
      ]
    },
    {
      "cell_type": "markdown",
      "metadata": {
        "id": "0fEzf-obGJJQ"
      },
      "source": [
        "#Building the model"
      ]
    },
    {
      "cell_type": "code",
      "execution_count": null,
      "metadata": {
        "id": "os-3rffHFZJO"
      },
      "outputs": [],
      "source": [
        "model = Sequential([\n",
        "            #layer 1\n",
        "            Conv2D(filters=32, kernel_size=2, activation='relu', input_shape = (64, 64, 3)),\n",
        "            MaxPool2D(pool_size=2),\n",
        "\n",
        "            #layre 2\n",
        "            Conv2D(filters=32, kernel_size=2, activation='relu'),\n",
        "            MaxPool2D(pool_size=2),\n",
        "\n",
        "            Flatten(),\n",
        "            Dense(units=128, activation='relu'),\n",
        "            Dense(units=64, activation='relu'),\n",
        "            Dense(units=1, activation='sigmoid')\n",
        "])"
      ]
    },
    {
      "cell_type": "markdown",
      "metadata": {
        "id": "DhSsXIFIHFOO"
      },
      "source": [
        "#Compiling the model"
      ]
    },
    {
      "cell_type": "code",
      "execution_count": null,
      "metadata": {
        "id": "QkBOEIgMHIzy"
      },
      "outputs": [],
      "source": [
        "model.compile(optimizer='Adam', loss='binary_crossentropy', metrics=['accuracy'])"
      ]
    },
    {
      "cell_type": "markdown",
      "metadata": {
        "id": "ANJ7HtbaHhzc"
      },
      "source": [
        "#Fitting the training and tesing data"
      ]
    },
    {
      "cell_type": "code",
      "execution_count": null,
      "metadata": {
        "colab": {
          "background_save": true,
          "base_uri": "https://localhost:8080/"
        },
        "id": "om5moxnFHruD",
        "outputId": "784162f1-d8b5-4af7-9336-fe63f2e39806"
      },
      "outputs": [
        {
          "name": "stdout",
          "output_type": "stream",
          "text": [
            "Epoch 1/25\n",
            "165/165 [==============================] - 953s 6s/step - loss: 0.5488 - accuracy: 0.7190 - val_loss: 0.4666 - val_accuracy: 0.7788\n",
            "Epoch 2/25\n",
            "165/165 [==============================] - 33s 198ms/step - loss: 0.4326 - accuracy: 0.7785 - val_loss: 0.4814 - val_accuracy: 0.7561\n",
            "Epoch 3/25\n",
            "165/165 [==============================] - 33s 197ms/step - loss: 0.4186 - accuracy: 0.7926 - val_loss: 0.3654 - val_accuracy: 0.7939\n",
            "Epoch 4/25\n",
            "165/165 [==============================] - 31s 188ms/step - loss: 0.3794 - accuracy: 0.8070 - val_loss: 0.3545 - val_accuracy: 0.7939\n",
            "Epoch 5/25\n",
            "165/165 [==============================] - 32s 194ms/step - loss: 0.3742 - accuracy: 0.8267 - val_loss: 0.4076 - val_accuracy: 0.8076\n",
            "Epoch 6/25\n",
            "165/165 [==============================] - 32s 192ms/step - loss: 0.3794 - accuracy: 0.8047 - val_loss: 0.3686 - val_accuracy: 0.8167\n",
            "Epoch 7/25\n",
            "165/165 [==============================] - 31s 186ms/step - loss: 0.3536 - accuracy: 0.8331 - val_loss: 0.3629 - val_accuracy: 0.8303\n",
            "Epoch 8/25\n",
            "165/165 [==============================] - 32s 192ms/step - loss: 0.3574 - accuracy: 0.8244 - val_loss: 0.3476 - val_accuracy: 0.8394\n",
            "Epoch 9/25\n",
            "165/165 [==============================] - 33s 199ms/step - loss: 0.3414 - accuracy: 0.8350 - val_loss: 0.3232 - val_accuracy: 0.8515\n",
            "Epoch 10/25\n",
            "165/165 [==============================] - 35s 211ms/step - loss: 0.3306 - accuracy: 0.8373 - val_loss: 0.3136 - val_accuracy: 0.8530\n",
            "Epoch 11/25\n",
            "165/165 [==============================] - 31s 186ms/step - loss: 0.3302 - accuracy: 0.8460 - val_loss: 0.3927 - val_accuracy: 0.8030\n",
            "Epoch 12/25\n",
            "165/165 [==============================] - 32s 193ms/step - loss: 0.3135 - accuracy: 0.8445 - val_loss: 0.3420 - val_accuracy: 0.8409\n",
            "Epoch 13/25\n",
            "165/165 [==============================] - 32s 197ms/step - loss: 0.3317 - accuracy: 0.8430 - val_loss: 0.3187 - val_accuracy: 0.8212\n",
            "Epoch 14/25\n",
            "165/165 [==============================] - 36s 219ms/step - loss: 0.3006 - accuracy: 0.8506 - val_loss: 0.4151 - val_accuracy: 0.8273\n",
            "Epoch 15/25\n",
            "165/165 [==============================] - 37s 222ms/step - loss: 0.3019 - accuracy: 0.8601 - val_loss: 0.2987 - val_accuracy: 0.8606\n",
            "Epoch 16/25\n",
            "165/165 [==============================] - 32s 193ms/step - loss: 0.2915 - accuracy: 0.8567 - val_loss: 0.3085 - val_accuracy: 0.8591\n",
            "Epoch 17/25\n",
            "165/165 [==============================] - 33s 197ms/step - loss: 0.2912 - accuracy: 0.8563 - val_loss: 0.3100 - val_accuracy: 0.8470\n",
            "Epoch 18/25\n",
            "165/165 [==============================] - 32s 194ms/step - loss: 0.2756 - accuracy: 0.8688 - val_loss: 0.3050 - val_accuracy: 0.8545\n",
            "Epoch 19/25\n",
            "165/165 [==============================] - 32s 191ms/step - loss: 0.2809 - accuracy: 0.8726 - val_loss: 0.3283 - val_accuracy: 0.8530\n",
            "Epoch 20/25\n",
            "165/165 [==============================] - 32s 192ms/step - loss: 0.2727 - accuracy: 0.8745 - val_loss: 0.3018 - val_accuracy: 0.8485\n",
            "Epoch 21/25\n",
            "165/165 [==============================] - 31s 185ms/step - loss: 0.2641 - accuracy: 0.8741 - val_loss: 0.3306 - val_accuracy: 0.8455\n",
            "Epoch 22/25\n",
            "165/165 [==============================] - 32s 196ms/step - loss: 0.2576 - accuracy: 0.8802 - val_loss: 0.3244 - val_accuracy: 0.8439\n",
            "Epoch 23/25\n",
            "165/165 [==============================] - 31s 186ms/step - loss: 0.2623 - accuracy: 0.8722 - val_loss: 0.3095 - val_accuracy: 0.8591\n",
            "Epoch 24/25\n",
            "165/165 [==============================] - 32s 193ms/step - loss: 0.2742 - accuracy: 0.8764 - val_loss: 0.3728 - val_accuracy: 0.8182\n",
            "Epoch 25/25\n",
            "165/165 [==============================] - 30s 182ms/step - loss: 0.2444 - accuracy: 0.8893 - val_loss: 0.3046 - val_accuracy: 0.8652\n"
          ]
        },
        {
          "data": {
            "text/plain": [
              "<keras.src.callbacks.History at 0x794e13e7f340>"
            ]
          },
          "execution_count": 12,
          "metadata": {},
          "output_type": "execute_result"
        }
      ],
      "source": [
        "model.fit(x = training_set, validation_data= testing_set, epochs= 25)"
      ]
    }
  ],
  "metadata": {
    "colab": {
      "provenance": []
    },
    "kernelspec": {
      "display_name": "Python 3",
      "name": "python3"
    },
    "language_info": {
      "name": "python"
    }
  },
  "nbformat": 4,
  "nbformat_minor": 0
}