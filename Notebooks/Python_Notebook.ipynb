{
  "nbformat": 4,
  "nbformat_minor": 0,
  "metadata": {
    "colab": {
      "provenance": []
    },
    "kernelspec": {
      "name": "python3",
      "display_name": "Python 3"
    },
    "language_info": {
      "name": "python"
    }
  },
  "cells": [
    {
      "cell_type": "code",
      "execution_count": null,
      "metadata": {
        "colab": {
          "base_uri": "https://localhost:8080/"
        },
        "id": "wDJpysYsTWhV",
        "outputId": "b1cacf69-dc14-4424-b27b-e30eb4cff2f2"
      },
      "outputs": [
        {
          "output_type": "stream",
          "name": "stdout",
          "text": [
            "please insert the 1st number: 2\n",
            "please insert the 2nd number: 3\n",
            "The result = 5\n"
          ]
        }
      ],
      "source": [
        "def addition():\n",
        "  var1= int(input(\"please insert the 1st number: \"))\n",
        "  var2= int(input(\"please insert the 2nd number: \"))\n",
        "  result = var1+var2\n",
        "  print(f\"The result = {result}\")\n",
        "addition()"
      ]
    },
    {
      "cell_type": "code",
      "source": [
        "def calc(num1,sign ,num2):\n",
        "  if sign == '+':\n",
        "    result1 = num1 + num2\n",
        "    print(f\"The result = {result1}\")\n",
        "  elif sign == '-':\n",
        "    result2 = num1 - num2\n",
        "    print(f\"The result = {result2}\")\n",
        "  elif sign == '*':\n",
        "    result3 = num1 * num2\n",
        "    print(f\"The result = {result3}\")\n",
        "  elif sign == '/':\n",
        "    result4 = num1 / num2\n",
        "    print(f\"The result = {result4}\")\n",
        "  elif sign == '**':\n",
        "    result5 = num1 ** num2\n",
        "    print(f\"The result = {result5}\")\n",
        "  else:\n",
        "    print(\"Invalid sign\")\n",
        "calc(2 ,'==',3)"
      ],
      "metadata": {
        "colab": {
          "base_uri": "https://localhost:8080/"
        },
        "id": "ckt97FwgYb2j",
        "outputId": "85b4d63d-7e37-40d4-d07b-c6ad82ffd495"
      },
      "execution_count": null,
      "outputs": [
        {
          "output_type": "stream",
          "name": "stdout",
          "text": [
            "Invalid sign\n"
          ]
        }
      ]
    },
    {
      "cell_type": "code",
      "source": [
        "list = [\"Malak\", \"Hayam\",\"Mai\"]\n",
        "list.append(\"Faida\")\n",
        "list.insert(2,17)\n",
        "print(list)"
      ],
      "metadata": {
        "colab": {
          "base_uri": "https://localhost:8080/"
        },
        "id": "vG6Yj3Zeagg5",
        "outputId": "e61ddf6c-35b1-4483-d662-b2316844f326"
      },
      "execution_count": null,
      "outputs": [
        {
          "output_type": "stream",
          "name": "stdout",
          "text": [
            "['Malak', 'Hayam', 17, 'Mai', 'Faida']\n"
          ]
        }
      ]
    },
    {
      "cell_type": "markdown",
      "source": [
        "Lib: Pandas (read data) (CSV) (Excel sheet)\n",
        "mattplatlib (plots) (graphs) (diagrams)\n",
        "numpy (list, Maths equ)\n",
        "sklearn(brain)"
      ],
      "metadata": {
        "id": "yrppcENawDz7"
      }
    },
    {
      "cell_type": "code",
      "source": [
        "import numpy as np\n",
        "import pandas as p\n",
        "import matplotlib.pyplot as mpl\n",
        "\n",
        "list = np.array([[1,2,3],\n",
        "                 [4,5,6],\n",
        "                 [7,8,9]])\n",
        "print(list[2:3,1:3])\n",
        "plt.scatter(x,y)\n",
        "plt.plot()\n",
        "plt.show()\n"
      ],
      "metadata": {
        "colab": {
          "base_uri": "https://localhost:8080/"
        },
        "id": "33dMHdTusG3T",
        "outputId": "d9790eba-f740-4062-9886-bce793a0d67c"
      },
      "execution_count": null,
      "outputs": [
        {
          "output_type": "stream",
          "name": "stdout",
          "text": [
            "[[8 9]]\n"
          ]
        }
      ]
    }
  ]
}