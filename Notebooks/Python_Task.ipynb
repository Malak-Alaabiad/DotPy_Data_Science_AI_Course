{
  "nbformat": 4,
  "nbformat_minor": 0,
  "metadata": {
    "colab": {
      "provenance": []
    },
    "kernelspec": {
      "name": "python3",
      "display_name": "Python 3"
    },
    "language_info": {
      "name": "python"
    }
  },
  "cells": [
    {
      "cell_type": "markdown",
      "source": [
        "**Task (1):**\n",
        "\n",
        "Ask the user to input a sequence of 3 numbers and save them in a list then find the largest among them."
      ],
      "metadata": {
        "id": "PblscGhjgcpr"
      }
    },
    {
      "cell_type": "code",
      "source": [
        "num_list = []\n",
        "num1 = int(input(\"Please, enter the 1st number: \"))\n",
        "num2 = int(input(\"Please, enter the 2nd number: \"))\n",
        "num3 = int(input(\"Please, enter the 3rd number: \"))\n",
        "num_list.append(num1)\n",
        "num_list.append(num2)\n",
        "num_list.append(num3)\n",
        "if num1 > num2 and num1 > num3:\n",
        "  print(\"The largest number of \", num_list, \"is\" ,num1)\n",
        "elif num2 > num1 and num2 > num3:\n",
        "  print(\"The largest number of \", num_list, \"is\" ,num2)\n",
        "else:\n",
        "  print(\"The largest number of \",num_list, \"is:\" ,num3)"
      ],
      "metadata": {
        "colab": {
          "base_uri": "https://localhost:8080/"
        },
        "id": "zjeWi2XSg_1j",
        "outputId": "4692f719-ce47-4b56-c041-44b7db5716f5"
      },
      "execution_count": null,
      "outputs": [
        {
          "output_type": "stream",
          "name": "stdout",
          "text": [
            "Please, enter the 1st number: 3\n",
            "Please, enter the 2nd number: 4\n",
            "Please, enter the 3rd number: 2\n",
            "The largest number of  [3, 4, 2] is 4\n"
          ]
        }
      ]
    },
    {
      "cell_type": "markdown",
      "source": [
        "**Task2:**\n",
        "\n",
        "Ask the user about his age and salary and if the salary is less than 5k and the age is over 30 then give him extra 3k .. otherwise the salary will be the same"
      ],
      "metadata": {
        "id": "u7DhgnaQj3Rk"
      }
    },
    {
      "cell_type": "code",
      "source": [
        "age = int(input(\"Enter you age: \"))\n",
        "salary = int(input(\"Enter your salary: \"))\n",
        "if salary < 5000 and age > 30:\n",
        "  print(\"You are:\",age, \"years old!\")\n",
        "  print(\"Congratulations! Your salary will become\",salary + 3000)\n",
        "else:\n",
        "  print(\"You are\",age, \"years old!\")\n",
        "  print(\"Your salary is:\",salary)"
      ],
      "metadata": {
        "colab": {
          "base_uri": "https://localhost:8080/"
        },
        "id": "fUF4Jl2IkI3o",
        "outputId": "3bb1fcfb-f0a9-4e9d-9428-b6dc0357d9d8"
      },
      "execution_count": null,
      "outputs": [
        {
          "output_type": "stream",
          "name": "stdout",
          "text": [
            "Enter you age: 31\n",
            "Enter your salary: 3000\n",
            "You are: 31 years old!\n",
            "Your salary will become: 6000\n"
          ]
        }
      ]
    }
  ]
}