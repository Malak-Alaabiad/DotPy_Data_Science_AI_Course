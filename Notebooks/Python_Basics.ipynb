{
  "cells": [
    {
      "cell_type": "code",
      "execution_count": null,
      "metadata": {
        "colab": {
          "base_uri": "https://localhost:8080/"
        },
        "id": "k4IUQmchcRL7",
        "outputId": "e4435079-6040-46e2-fc0b-7d350440b222"
      },
      "outputs": [
        {
          "name": "stdout",
          "output_type": "stream",
          "text": [
            "Please enter the 1st number : 2\n",
            "Please enter the 2nd number: 3\n",
            "x + y = 5.0\n"
          ]
        }
      ],
      "source": [
        "x = float(input(\"Please enter the 1st number : \"))\n",
        "y = float(input(\"Please enter the 2nd number: \"))\n",
        "print (f'x + y = {x + y}')"
      ]
    },
    {
      "cell_type": "code",
      "execution_count": null,
      "metadata": {
        "colab": {
          "background_save": true
        },
        "id": "_W0aGrsPeCC_",
        "outputId": "509a643e-1abc-4ccd-c802-d81640ead116"
      },
      "outputs": [
        {
          "name": "stdout",
          "output_type": "stream",
          "text": [
            "10.0\n"
          ]
        }
      ],
      "source": [
        "m = 10\n",
        "m = float(10)\n",
        "print()"
      ]
    }
  ],
  "metadata": {
    "colab": {
      "provenance": []
    },
    "kernelspec": {
      "display_name": "Python 3",
      "name": "python3"
    },
    "language_info": {
      "name": "python"
    }
  },
  "nbformat": 4,
  "nbformat_minor": 0
}